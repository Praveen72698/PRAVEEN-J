{
  "nbformat": 4,
  "nbformat_minor": 0,
  "metadata": {
    "colab": {
      "name": "Copy of Untitled1.ipynb",
      "provenance": [],
      "collapsed_sections": [],
      "authorship_tag": "ABX9TyPaJZ6nYzj1OJvq8kmKaWMD",
      "include_colab_link": true
    },
    "kernelspec": {
      "name": "python3",
      "display_name": "Python 3"
    },
    "language_info": {
      "name": "python"
    }
  },
  "cells": [
    {
      "cell_type": "markdown",
      "metadata": {
        "id": "view-in-github",
        "colab_type": "text"
      },
      "source": [
        "<a href=\"https://colab.research.google.com/github/Praveen72698/PRAVEEN-J/blob/main/Copy_of_Untitled1.ipynb\" target=\"_parent\"><img src=\"https://colab.research.google.com/assets/colab-badge.svg\" alt=\"Open In Colab\"/></a>"
      ]
    },
    {
      "cell_type": "code",
      "metadata": {
        "colab": {
          "base_uri": "https://localhost:8080/"
        },
        "id": "HnKjEqcYGmtz",
        "outputId": "398abdce-198f-4c00-d2b4-3a6d4edb6eab"
      },
      "source": [
        "a=int(input(\"Enter the Number A:\"))\n",
        "b=int(input(\"Enter the Number B:\"))\n",
        "print(\"Addition=\",a+b)\n",
        "print(\"Subraction=\",a-b)\n",
        "print(\"Multiplication=\",a*b)\n",
        "print(\"Exponent=\",a**b)\n",
        "print(\"Floor Division=\",a//b)\n",
        "print(\"Division=\",a/b)"
      ],
      "execution_count": null,
      "outputs": [
        {
          "output_type": "stream",
          "text": [
            "Enter the Number A:88\n",
            "Enter the Number B:76\n",
            "Addition= 164\n",
            "Subraction= 12\n",
            "Multiplication= 6688\n",
            "Exponent= 6035080722705179888205842439787662711762586109908324530829076827244544027488076393133763660360116882382153483556698165006022222943341272237936214016\n",
            "Floor Division= 1\n",
            "Division= 1.1578947368421053\n"
          ],
          "name": "stdout"
        }
      ]
    }
  ]
}