{
  "nbformat": 4,
  "nbformat_minor": 0,
  "metadata": {
    "colab": {
      "name": "Untitled6.ipynb",
      "provenance": [],
      "authorship_tag": "ABX9TyPM2JOnPs7hsGt1Jw6Y4oZW",
      "include_colab_link": true
    },
    "kernelspec": {
      "name": "python3",
      "display_name": "Python 3"
    },
    "language_info": {
      "name": "python"
    }
  },
  "cells": [
    {
      "cell_type": "markdown",
      "metadata": {
        "id": "view-in-github",
        "colab_type": "text"
      },
      "source": [
        "<a href=\"https://colab.research.google.com/github/Praveen72698/PRAVEEN-J/blob/main/Untitled6.ipynb\" target=\"_parent\"><img src=\"https://colab.research.google.com/assets/colab-badge.svg\" alt=\"Open In Colab\"/></a>"
      ]
    },
    {
      "cell_type": "code",
      "metadata": {
        "colab": {
          "base_uri": "https://localhost:8080/"
        },
        "id": "OqI4eFta9_Hk",
        "outputId": "41a068f9-14d9-4aaa-c3ba-45ffd40cd540"
      },
      "source": [
        "import re\n",
        "p= input(\"Input your password\")\n",
        "x = True\n",
        "while x:\n",
        "  if (len(p)<len(p)>12):\n",
        "      break\n",
        "  elif not re.search(\"[a-z]\",p):\n",
        "      break\n",
        "  elif not re.search(\"[0-9]\",p):\n",
        "      break\n",
        "  elif not re.search(\"[a-z]\",p):\n",
        "      break\n",
        "  elif not re.search(\"[$#@]\",p):\n",
        "      break\n",
        "  elif re.search(\"\\s\",p):\n",
        "      break\n",
        "  else:\n",
        "      print(\"valid password\")\n",
        "      x=False\n",
        "      break\n",
        "\n",
        "if x:\n",
        "    print(\"Not a valid password\")                              "
      ],
      "execution_count": 1,
      "outputs": [
        {
          "output_type": "stream",
          "text": [
            "Input your password123\n",
            "Not a valid password\n"
          ],
          "name": "stdout"
        }
      ]
    }
  ]
}