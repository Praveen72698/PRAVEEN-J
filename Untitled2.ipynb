{
  "nbformat": 4,
  "nbformat_minor": 0,
  "metadata": {
    "colab": {
      "name": "Untitled2.ipynb",
      "provenance": [],
      "collapsed_sections": [],
      "authorship_tag": "ABX9TyNk3h0OUIbuIcXOv2VvjSxl",
      "include_colab_link": true
    },
    "kernelspec": {
      "name": "python3",
      "display_name": "Python 3"
    },
    "language_info": {
      "name": "python"
    }
  },
  "cells": [
    {
      "cell_type": "markdown",
      "metadata": {
        "id": "view-in-github",
        "colab_type": "text"
      },
      "source": [
        "<a href=\"https://colab.research.google.com/github/Praveen72698/PRAVEEN-J/blob/main/Untitled2.ipynb\" target=\"_parent\"><img src=\"https://colab.research.google.com/assets/colab-badge.svg\" alt=\"Open In Colab\"/></a>"
      ]
    },
    {
      "cell_type": "code",
      "metadata": {
        "colab": {
          "base_uri": "https://localhost:8080/"
        },
        "id": "VeV0TKBwJqTx",
        "outputId": "5e22c9fa-e7f4-4b6a-c89e-1bbba293379f"
      },
      "source": [
        "a=int(input(\"Enter the First Number:\"))\n",
        "b=int(input(\"Enter the Second Number:\"))\n",
        "temp=a\n",
        "a=b\n",
        "b=temp\n",
        "print(\"After Swapping Number s\")\n",
        "print(\"The Value of a is:\",a)\n",
        "print(\"The Value of b is:\",b)"
      ],
      "execution_count": 1,
      "outputs": [
        {
          "output_type": "stream",
          "text": [
            "Enter the First Number:89\n",
            "Enter the Second Number:56\n",
            "After Swapping Number s\n",
            "The Value of a is: 56\n",
            "The Value of b is: 89\n"
          ],
          "name": "stdout"
        }
      ]
    }
  ]
}