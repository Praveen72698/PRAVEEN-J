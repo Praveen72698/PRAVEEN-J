{
  "nbformat": 4,
  "nbformat_minor": 0,
  "metadata": {
    "colab": {
      "name": "Untitled5.ipynb",
      "provenance": [],
      "authorship_tag": "ABX9TyODhOa/pqf/4o3P1T+AqaJY",
      "include_colab_link": true
    },
    "kernelspec": {
      "name": "python3",
      "display_name": "Python 3"
    },
    "language_info": {
      "name": "python"
    }
  },
  "cells": [
    {
      "cell_type": "markdown",
      "metadata": {
        "id": "view-in-github",
        "colab_type": "text"
      },
      "source": [
        "<a href=\"https://colab.research.google.com/github/Praveen72698/PRAVEEN-J/blob/main/Untitled5.ipynb\" target=\"_parent\"><img src=\"https://colab.research.google.com/assets/colab-badge.svg\" alt=\"Open In Colab\"/></a>"
      ]
    },
    {
      "cell_type": "code",
      "metadata": {
        "colab": {
          "base_uri": "https://localhost:8080/"
        },
        "id": "tw6Znk_t2yat",
        "outputId": "ba2f99bd-df25-4959-c831-c7ff0e7df85b"
      },
      "source": [
        "L = [{\"V\":\"5001\"}, {\"V\":\"5002\"}, {\"VI\":\"5001\"}, {\"VI\":\"5005\"}, {\"VII\":\"5009\"}, {\"VIII\":\"5007\"}]\n",
        "print(\"original list: \",L)\n",
        "u_value = set( val for dic in L for val in dic.values())\n",
        "print(\"unique value: \",u_value)"
      ],
      "execution_count": 14,
      "outputs": [
        {
          "output_type": "stream",
          "text": [
            "original list:  [{'V': '5001'}, {'V': '5002'}, {'VI': '5001'}, {'VI': '5005'}, {'VII': '5009'}, {'VIII': '5007'}]\n",
            "unique value:  {'5001', '5009', '5005', '5002', '5007'}\n"
          ],
          "name": "stdout"
        }
      ]
    }
  ]
}