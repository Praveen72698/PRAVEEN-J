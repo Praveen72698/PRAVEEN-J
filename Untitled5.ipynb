{
  "nbformat": 4,
  "nbformat_minor": 0,
  "metadata": {
    "colab": {
      "name": "Untitled5.ipynb",
      "provenance": [],
      "authorship_tag": "ABX9TyORD6ybNIVilJLvTcKZ425C",
      "include_colab_link": true
    },
    "kernelspec": {
      "name": "python3",
      "display_name": "Python 3"
    },
    "language_info": {
      "name": "python"
    }
  },
  "cells": [
    {
      "cell_type": "markdown",
      "metadata": {
        "id": "view-in-github",
        "colab_type": "text"
      },
      "source": [
        "<a href=\"https://colab.research.google.com/github/Praveen72698/PRAVEEN-J/blob/main/Untitled5.ipynb\" target=\"_parent\"><img src=\"https://colab.research.google.com/assets/colab-badge.svg\" alt=\"Open In Colab\"/></a>"
      ]
    },
    {
      "cell_type": "code",
      "metadata": {
        "id": "tw6Znk_t2yat"
      },
      "source": [
        ""
      ],
      "execution_count": null,
      "outputs": []
    },
    {
      "cell_type": "code",
      "metadata": {
        "colab": {
          "base_uri": "https://localhost:8080/"
        },
        "id": "7AsoFKsg20Q-",
        "outputId": "e1cef07f-d66e-4f29-e26a-3c6bf148f373"
      },
      "source": [
        "def Remove(duplicate):\n",
        "  final_list = []\n",
        "  for num in duplicate:\n",
        "      if num not in final_list:\n",
        "           final_list.append(num)\n",
        "  return final_list\n",
        "duplicate = [2, 4, 10, 5, 2, 20, 4]\n",
        "print(Remove(duplicate))      "
      ],
      "execution_count": 7,
      "outputs": [
        {
          "output_type": "stream",
          "text": [
            "[2, 4, 10, 5, 20]\n"
          ],
          "name": "stdout"
        }
      ]
    }
  ]
}