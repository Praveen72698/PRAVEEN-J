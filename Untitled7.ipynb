{
  "nbformat": 4,
  "nbformat_minor": 0,
  "metadata": {
    "colab": {
      "name": "Untitled7.ipynb",
      "provenance": [],
      "authorship_tag": "ABX9TyOlEdGVQlB+1BLYkKvCPxwD",
      "include_colab_link": true
    },
    "kernelspec": {
      "name": "python3",
      "display_name": "Python 3"
    },
    "language_info": {
      "name": "python"
    }
  },
  "cells": [
    {
      "cell_type": "markdown",
      "metadata": {
        "id": "view-in-github",
        "colab_type": "text"
      },
      "source": [
        "<a href=\"https://colab.research.google.com/github/Praveen72698/PRAVEEN-J/blob/main/Untitled7.ipynb\" target=\"_parent\"><img src=\"https://colab.research.google.com/assets/colab-badge.svg\" alt=\"Open In Colab\"/></a>"
      ]
    },
    {
      "cell_type": "code",
      "metadata": {
        "colab": {
          "base_uri": "https://localhost:8080/"
        },
        "id": "0uvqZyKKBzfv",
        "outputId": "5c270b39-7746-40cc-9a41-c273f3de5118"
      },
      "source": [
        "print(\"List of month: January, Febuary, March, April, May, June, July, August, September, October, November, December\")\n",
        "month_name = input(\"Input the name of Month\")\n",
        "\n",
        "if month_name == \"Febuary\":\n",
        "  print(\"No. of days: 28/29 days\")\n",
        "elif month_name in (\"April\", \"June\", \"September\", \"November\"):\n",
        "  print(\"No. of days: 30 days\")\n",
        "elif month_name in (\"January\", \"March\", \"July\", \"August\", \"October\", \"December\"):\n",
        "  print(\"No.of days: 31 days\")\n",
        "else:\n",
        "  print(\"Wrong month name\")    "
      ],
      "execution_count": 3,
      "outputs": [
        {
          "output_type": "stream",
          "text": [
            "List of month: January, Febuary, March, April, May, June, July, August, September, October, November, December\n",
            "Input the name of MonthNovember\n",
            "No. of days: 30 days\n"
          ],
          "name": "stdout"
        }
      ]
    }
  ]
}