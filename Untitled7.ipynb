{
  "nbformat": 4,
  "nbformat_minor": 0,
  "metadata": {
    "colab": {
      "name": "Untitled7.ipynb",
      "provenance": [],
      "authorship_tag": "ABX9TyM2rm5auK9y6zY/DIXB08lc",
      "include_colab_link": true
    },
    "kernelspec": {
      "name": "python3",
      "display_name": "Python 3"
    },
    "language_info": {
      "name": "python"
    }
  },
  "cells": [
    {
      "cell_type": "markdown",
      "metadata": {
        "id": "view-in-github",
        "colab_type": "text"
      },
      "source": [
        "<a href=\"https://colab.research.google.com/github/Praveen72698/PRAVEEN-J/blob/main/Untitled7.ipynb\" target=\"_parent\"><img src=\"https://colab.research.google.com/assets/colab-badge.svg\" alt=\"Open In Colab\"/></a>"
      ]
    },
    {
      "cell_type": "code",
      "metadata": {
        "colab": {
          "base_uri": "https://localhost:8080/"
        },
        "id": "LE8T7XTVGepy",
        "outputId": "8ff06e21-572a-40cf-e7d8-94072eb5ea2d"
      },
      "source": [
        "import random\n",
        "target_num, guess_num = random.randint(i, 10), 0\n",
        "while target_num != guess_num:\n",
        "    guess_num = int(input('Guess a number between 1 and 10 until you get it right : '))\n",
        "print('Well guessed!')    \n"
      ],
      "execution_count": 7,
      "outputs": [
        {
          "output_type": "stream",
          "text": [
            "Guess a number between 1 and 10 until you get it right : 6\n",
            "Well guessed!\n"
          ],
          "name": "stdout"
        }
      ]
    }
  ]
}